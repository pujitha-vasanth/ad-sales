{
 "cells": [
  {
   "cell_type": "markdown",
   "metadata": {
    "id": "mM7KaMsIyx5q"
   },
   "source": [
    "# Effects of Advertising on Sales\n",
    "\n",
    "\n",
    "\n",
    "## Context \n",
    "\n",
    "- An interesting application of regression is to quantify the effect of advertisement on sales. Various channels of advertisement are newspaper, TV, radio, etc. \n",
    "- In this case study, we will have a look at the **advertising data of a company** and try to see its **effect on sales**.\n",
    "- We will also try to **predict the sales given the different parameters of advertising**. \n",
    "\n",
    "\n",
    "## Data Information\n",
    "\n",
    "The data at hand has three features about the spending on advertising and the target variable is the net sales. Attributes are:\n",
    "\n",
    "- TV    - Independent variable quantifying budget for TV ads\n",
    "- Radio - Independent variable quantifying budget for radio ads \n",
    "- News  - Independent variable quantifying budget for news ads\n",
    "- Sales - Dependent variable"
   ]
  },
  {
   "cell_type": "markdown",
   "metadata": {
    "id": "rzjQEUms29nL"
   },
   "source": [
    "### Importing necessary packages"
   ]
  },
  {
   "cell_type": "code",
   "execution_count": 1,
   "metadata": {
    "id": "Mbek6djw26sQ"
   },
   "outputs": [],
   "source": [
    "import pandas as pd\n",
    "import numpy as np\n",
    "from sklearn import linear_model\n",
    "import matplotlib.pyplot as plt"
   ]
  },
  {
   "cell_type": "code",
   "execution_count": 2,
   "metadata": {
    "colab": {
     "base_uri": "https://localhost:8080/",
     "height": 202
    },
    "id": "qIbGMZS36De1",
    "outputId": "403b1426-9d51-481c-c1ab-e5c93eb1fa4a"
   },
   "outputs": [
    {
     "data": {
      "text/html": [
       "<div>\n",
       "<style scoped>\n",
       "    .dataframe tbody tr th:only-of-type {\n",
       "        vertical-align: middle;\n",
       "    }\n",
       "\n",
       "    .dataframe tbody tr th {\n",
       "        vertical-align: top;\n",
       "    }\n",
       "\n",
       "    .dataframe thead th {\n",
       "        text-align: right;\n",
       "    }\n",
       "</style>\n",
       "<table border=\"1\" class=\"dataframe\">\n",
       "  <thead>\n",
       "    <tr style=\"text-align: right;\">\n",
       "      <th></th>\n",
       "      <th>Unnamed: 0</th>\n",
       "      <th>TV</th>\n",
       "      <th>radio</th>\n",
       "      <th>newspaper</th>\n",
       "      <th>sales</th>\n",
       "    </tr>\n",
       "  </thead>\n",
       "  <tbody>\n",
       "    <tr>\n",
       "      <th>0</th>\n",
       "      <td>1</td>\n",
       "      <td>230.1</td>\n",
       "      <td>37.8</td>\n",
       "      <td>69.2</td>\n",
       "      <td>22.1</td>\n",
       "    </tr>\n",
       "    <tr>\n",
       "      <th>1</th>\n",
       "      <td>2</td>\n",
       "      <td>44.5</td>\n",
       "      <td>39.3</td>\n",
       "      <td>45.1</td>\n",
       "      <td>10.4</td>\n",
       "    </tr>\n",
       "    <tr>\n",
       "      <th>2</th>\n",
       "      <td>3</td>\n",
       "      <td>17.2</td>\n",
       "      <td>45.9</td>\n",
       "      <td>69.3</td>\n",
       "      <td>9.3</td>\n",
       "    </tr>\n",
       "    <tr>\n",
       "      <th>3</th>\n",
       "      <td>4</td>\n",
       "      <td>151.5</td>\n",
       "      <td>41.3</td>\n",
       "      <td>58.5</td>\n",
       "      <td>18.5</td>\n",
       "    </tr>\n",
       "    <tr>\n",
       "      <th>4</th>\n",
       "      <td>5</td>\n",
       "      <td>180.8</td>\n",
       "      <td>10.8</td>\n",
       "      <td>58.4</td>\n",
       "      <td>12.9</td>\n",
       "    </tr>\n",
       "  </tbody>\n",
       "</table>\n",
       "</div>"
      ],
      "text/plain": [
       "   Unnamed: 0     TV  radio  newspaper  sales\n",
       "0           1  230.1   37.8       69.2   22.1\n",
       "1           2   44.5   39.3       45.1   10.4\n",
       "2           3   17.2   45.9       69.3    9.3\n",
       "3           4  151.5   41.3       58.5   18.5\n",
       "4           5  180.8   10.8       58.4   12.9"
      ]
     },
     "execution_count": 2,
     "metadata": {},
     "output_type": "execute_result"
    }
   ],
   "source": [
    "# Read the dataset\n",
    "Ad_df = pd.read_csv('Advertising.csv')\n",
    "\n",
    "# Load the data into the Ad_df data frame\n",
    "Ad_df.head()"
   ]
  },
  {
   "cell_type": "code",
   "execution_count": 3,
   "metadata": {
    "id": "dQD08slX6tVt"
   },
   "outputs": [],
   "source": [
    "# we can drop the first column as it is just the index\n",
    "Ad_df.drop(columns = 'Unnamed: 0', inplace=True)"
   ]
  },
  {
   "cell_type": "code",
   "execution_count": 4,
   "metadata": {
    "colab": {
     "base_uri": "https://localhost:8080/",
     "height": 416
    },
    "id": "PHN8-pYv7IAP",
    "outputId": "19cfac7e-d7c5-45da-b20f-4fb03cc6ca6f"
   },
   "outputs": [
    {
     "data": {
      "text/html": [
       "<div>\n",
       "<style scoped>\n",
       "    .dataframe tbody tr th:only-of-type {\n",
       "        vertical-align: middle;\n",
       "    }\n",
       "\n",
       "    .dataframe tbody tr th {\n",
       "        vertical-align: top;\n",
       "    }\n",
       "\n",
       "    .dataframe thead th {\n",
       "        text-align: right;\n",
       "    }\n",
       "</style>\n",
       "<table border=\"1\" class=\"dataframe\">\n",
       "  <thead>\n",
       "    <tr style=\"text-align: right;\">\n",
       "      <th></th>\n",
       "      <th>TV</th>\n",
       "      <th>radio</th>\n",
       "      <th>newspaper</th>\n",
       "      <th>sales</th>\n",
       "    </tr>\n",
       "  </thead>\n",
       "  <tbody>\n",
       "    <tr>\n",
       "      <th>0</th>\n",
       "      <td>230.1</td>\n",
       "      <td>37.8</td>\n",
       "      <td>69.2</td>\n",
       "      <td>22.1</td>\n",
       "    </tr>\n",
       "    <tr>\n",
       "      <th>1</th>\n",
       "      <td>44.5</td>\n",
       "      <td>39.3</td>\n",
       "      <td>45.1</td>\n",
       "      <td>10.4</td>\n",
       "    </tr>\n",
       "    <tr>\n",
       "      <th>2</th>\n",
       "      <td>17.2</td>\n",
       "      <td>45.9</td>\n",
       "      <td>69.3</td>\n",
       "      <td>9.3</td>\n",
       "    </tr>\n",
       "    <tr>\n",
       "      <th>3</th>\n",
       "      <td>151.5</td>\n",
       "      <td>41.3</td>\n",
       "      <td>58.5</td>\n",
       "      <td>18.5</td>\n",
       "    </tr>\n",
       "    <tr>\n",
       "      <th>4</th>\n",
       "      <td>180.8</td>\n",
       "      <td>10.8</td>\n",
       "      <td>58.4</td>\n",
       "      <td>12.9</td>\n",
       "    </tr>\n",
       "    <tr>\n",
       "      <th>...</th>\n",
       "      <td>...</td>\n",
       "      <td>...</td>\n",
       "      <td>...</td>\n",
       "      <td>...</td>\n",
       "    </tr>\n",
       "    <tr>\n",
       "      <th>195</th>\n",
       "      <td>38.2</td>\n",
       "      <td>3.7</td>\n",
       "      <td>13.8</td>\n",
       "      <td>7.6</td>\n",
       "    </tr>\n",
       "    <tr>\n",
       "      <th>196</th>\n",
       "      <td>94.2</td>\n",
       "      <td>4.9</td>\n",
       "      <td>8.1</td>\n",
       "      <td>9.7</td>\n",
       "    </tr>\n",
       "    <tr>\n",
       "      <th>197</th>\n",
       "      <td>177.0</td>\n",
       "      <td>9.3</td>\n",
       "      <td>6.4</td>\n",
       "      <td>12.8</td>\n",
       "    </tr>\n",
       "    <tr>\n",
       "      <th>198</th>\n",
       "      <td>283.6</td>\n",
       "      <td>42.0</td>\n",
       "      <td>66.2</td>\n",
       "      <td>25.5</td>\n",
       "    </tr>\n",
       "    <tr>\n",
       "      <th>199</th>\n",
       "      <td>232.1</td>\n",
       "      <td>8.6</td>\n",
       "      <td>8.7</td>\n",
       "      <td>13.4</td>\n",
       "    </tr>\n",
       "  </tbody>\n",
       "</table>\n",
       "<p>200 rows × 4 columns</p>\n",
       "</div>"
      ],
      "text/plain": [
       "        TV  radio  newspaper  sales\n",
       "0    230.1   37.8       69.2   22.1\n",
       "1     44.5   39.3       45.1   10.4\n",
       "2     17.2   45.9       69.3    9.3\n",
       "3    151.5   41.3       58.5   18.5\n",
       "4    180.8   10.8       58.4   12.9\n",
       "..     ...    ...        ...    ...\n",
       "195   38.2    3.7       13.8    7.6\n",
       "196   94.2    4.9        8.1    9.7\n",
       "197  177.0    9.3        6.4   12.8\n",
       "198  283.6   42.0       66.2   25.5\n",
       "199  232.1    8.6        8.7   13.4\n",
       "\n",
       "[200 rows x 4 columns]"
      ]
     },
     "execution_count": 4,
     "metadata": {},
     "output_type": "execute_result"
    }
   ],
   "source": [
    "Ad_df"
   ]
  },
  {
   "cell_type": "code",
   "execution_count": 5,
   "metadata": {
    "colab": {
     "base_uri": "https://localhost:8080/"
    },
    "id": "lPtSvD8T-ALA",
    "outputId": "a18e28e4-458e-4708-941d-9eb423fd6653"
   },
   "outputs": [
    {
     "name": "stdout",
     "output_type": "stream",
     "text": [
      "<class 'pandas.core.frame.DataFrame'>\n",
      "RangeIndex: 200 entries, 0 to 199\n",
      "Data columns (total 4 columns):\n",
      " #   Column     Non-Null Count  Dtype  \n",
      "---  ------     --------------  -----  \n",
      " 0   TV         200 non-null    float64\n",
      " 1   radio      200 non-null    float64\n",
      " 2   newspaper  200 non-null    float64\n",
      " 3   sales      200 non-null    float64\n",
      "dtypes: float64(4)\n",
      "memory usage: 6.4 KB\n"
     ]
    }
   ],
   "source": [
    "Ad_df.info()"
   ]
  },
  {
   "cell_type": "markdown",
   "metadata": {
    "id": "TtclE25ghs4f"
   },
   "source": [
    "**Observations:** All the variables are of **float data type**."
   ]
  },
  {
   "cell_type": "markdown",
   "metadata": {
    "id": "vdPHnnpw_9oV"
   },
   "source": [
    "## Simple Linear Regression\n",
    "#### We will use one feature at a time and have a look at the target variable. "
   ]
  },
  {
   "cell_type": "code",
   "execution_count": 6,
   "metadata": {
    "id": "q4UTFBGd9_Dr"
   },
   "outputs": [
    {
     "name": "stdout",
     "output_type": "stream",
     "text": [
      "[[22.1]\n",
      " [10.4]\n",
      " [ 9.3]\n",
      " [18.5]\n",
      " [12.9]\n",
      " [ 7.2]\n",
      " [11.8]\n",
      " [13.2]\n",
      " [ 4.8]\n",
      " [10.6]\n",
      " [ 8.6]\n",
      " [17.4]\n",
      " [ 9.2]\n",
      " [ 9.7]\n",
      " [19. ]\n",
      " [22.4]\n",
      " [12.5]\n",
      " [24.4]\n",
      " [11.3]\n",
      " [14.6]\n",
      " [18. ]\n",
      " [12.5]\n",
      " [ 5.6]\n",
      " [15.5]\n",
      " [ 9.7]\n",
      " [12. ]\n",
      " [15. ]\n",
      " [15.9]\n",
      " [18.9]\n",
      " [10.5]\n",
      " [21.4]\n",
      " [11.9]\n",
      " [ 9.6]\n",
      " [17.4]\n",
      " [ 9.5]\n",
      " [12.8]\n",
      " [25.4]\n",
      " [14.7]\n",
      " [10.1]\n",
      " [21.5]\n",
      " [16.6]\n",
      " [17.1]\n",
      " [20.7]\n",
      " [12.9]\n",
      " [ 8.5]\n",
      " [14.9]\n",
      " [10.6]\n",
      " [23.2]\n",
      " [14.8]\n",
      " [ 9.7]\n",
      " [11.4]\n",
      " [10.7]\n",
      " [22.6]\n",
      " [21.2]\n",
      " [20.2]\n",
      " [23.7]\n",
      " [ 5.5]\n",
      " [13.2]\n",
      " [23.8]\n",
      " [18.4]\n",
      " [ 8.1]\n",
      " [24.2]\n",
      " [15.7]\n",
      " [14. ]\n",
      " [18. ]\n",
      " [ 9.3]\n",
      " [ 9.5]\n",
      " [13.4]\n",
      " [18.9]\n",
      " [22.3]\n",
      " [18.3]\n",
      " [12.4]\n",
      " [ 8.8]\n",
      " [11. ]\n",
      " [17. ]\n",
      " [ 8.7]\n",
      " [ 6.9]\n",
      " [14.2]\n",
      " [ 5.3]\n",
      " [11. ]\n",
      " [11.8]\n",
      " [12.3]\n",
      " [11.3]\n",
      " [13.6]\n",
      " [21.7]\n",
      " [15.2]\n",
      " [12. ]\n",
      " [16. ]\n",
      " [12.9]\n",
      " [16.7]\n",
      " [11.2]\n",
      " [ 7.3]\n",
      " [19.4]\n",
      " [22.2]\n",
      " [11.5]\n",
      " [16.9]\n",
      " [11.7]\n",
      " [15.5]\n",
      " [25.4]\n",
      " [17.2]\n",
      " [11.7]\n",
      " [23.8]\n",
      " [14.8]\n",
      " [14.7]\n",
      " [20.7]\n",
      " [19.2]\n",
      " [ 7.2]\n",
      " [ 8.7]\n",
      " [ 5.3]\n",
      " [19.8]\n",
      " [13.4]\n",
      " [21.8]\n",
      " [14.1]\n",
      " [15.9]\n",
      " [14.6]\n",
      " [12.6]\n",
      " [12.2]\n",
      " [ 9.4]\n",
      " [15.9]\n",
      " [ 6.6]\n",
      " [15.5]\n",
      " [ 7. ]\n",
      " [11.6]\n",
      " [15.2]\n",
      " [19.7]\n",
      " [10.6]\n",
      " [ 6.6]\n",
      " [ 8.8]\n",
      " [24.7]\n",
      " [ 9.7]\n",
      " [ 1.6]\n",
      " [12.7]\n",
      " [ 5.7]\n",
      " [19.6]\n",
      " [10.8]\n",
      " [11.6]\n",
      " [ 9.5]\n",
      " [20.8]\n",
      " [ 9.6]\n",
      " [20.7]\n",
      " [10.9]\n",
      " [19.2]\n",
      " [20.1]\n",
      " [10.4]\n",
      " [11.4]\n",
      " [10.3]\n",
      " [13.2]\n",
      " [25.4]\n",
      " [10.9]\n",
      " [10.1]\n",
      " [16.1]\n",
      " [11.6]\n",
      " [16.6]\n",
      " [19. ]\n",
      " [15.6]\n",
      " [ 3.2]\n",
      " [15.3]\n",
      " [10.1]\n",
      " [ 7.3]\n",
      " [12.9]\n",
      " [14.4]\n",
      " [13.3]\n",
      " [14.9]\n",
      " [18. ]\n",
      " [11.9]\n",
      " [11.9]\n",
      " [ 8. ]\n",
      " [12.2]\n",
      " [17.1]\n",
      " [15. ]\n",
      " [ 8.4]\n",
      " [14.5]\n",
      " [ 7.6]\n",
      " [11.7]\n",
      " [11.5]\n",
      " [27. ]\n",
      " [20.2]\n",
      " [11.7]\n",
      " [11.8]\n",
      " [12.6]\n",
      " [10.5]\n",
      " [12.2]\n",
      " [ 8.7]\n",
      " [26.2]\n",
      " [17.6]\n",
      " [22.6]\n",
      " [10.3]\n",
      " [17.3]\n",
      " [15.9]\n",
      " [ 6.7]\n",
      " [10.8]\n",
      " [ 9.9]\n",
      " [ 5.9]\n",
      " [19.6]\n",
      " [17.3]\n",
      " [ 7.6]\n",
      " [ 9.7]\n",
      " [12.8]\n",
      " [25.5]\n",
      " [13.4]]\n",
      "[[230.1]\n",
      " [ 44.5]\n",
      " [ 17.2]\n",
      " [151.5]\n",
      " [180.8]\n",
      " [  8.7]\n",
      " [ 57.5]\n",
      " [120.2]\n",
      " [  8.6]\n",
      " [199.8]\n",
      " [ 66.1]\n",
      " [214.7]\n",
      " [ 23.8]\n",
      " [ 97.5]\n",
      " [204.1]\n",
      " [195.4]\n",
      " [ 67.8]\n",
      " [281.4]\n",
      " [ 69.2]\n",
      " [147.3]\n",
      " [218.4]\n",
      " [237.4]\n",
      " [ 13.2]\n",
      " [228.3]\n",
      " [ 62.3]\n",
      " [262.9]\n",
      " [142.9]\n",
      " [240.1]\n",
      " [248.8]\n",
      " [ 70.6]\n",
      " [292.9]\n",
      " [112.9]\n",
      " [ 97.2]\n",
      " [265.6]\n",
      " [ 95.7]\n",
      " [290.7]\n",
      " [266.9]\n",
      " [ 74.7]\n",
      " [ 43.1]\n",
      " [228. ]\n",
      " [202.5]\n",
      " [177. ]\n",
      " [293.6]\n",
      " [206.9]\n",
      " [ 25.1]\n",
      " [175.1]\n",
      " [ 89.7]\n",
      " [239.9]\n",
      " [227.2]\n",
      " [ 66.9]\n",
      " [199.8]\n",
      " [100.4]\n",
      " [216.4]\n",
      " [182.6]\n",
      " [262.7]\n",
      " [198.9]\n",
      " [  7.3]\n",
      " [136.2]\n",
      " [210.8]\n",
      " [210.7]\n",
      " [ 53.5]\n",
      " [261.3]\n",
      " [239.3]\n",
      " [102.7]\n",
      " [131.1]\n",
      " [ 69. ]\n",
      " [ 31.5]\n",
      " [139.3]\n",
      " [237.4]\n",
      " [216.8]\n",
      " [199.1]\n",
      " [109.8]\n",
      " [ 26.8]\n",
      " [129.4]\n",
      " [213.4]\n",
      " [ 16.9]\n",
      " [ 27.5]\n",
      " [120.5]\n",
      " [  5.4]\n",
      " [116. ]\n",
      " [ 76.4]\n",
      " [239.8]\n",
      " [ 75.3]\n",
      " [ 68.4]\n",
      " [213.5]\n",
      " [193.2]\n",
      " [ 76.3]\n",
      " [110.7]\n",
      " [ 88.3]\n",
      " [109.8]\n",
      " [134.3]\n",
      " [ 28.6]\n",
      " [217.7]\n",
      " [250.9]\n",
      " [107.4]\n",
      " [163.3]\n",
      " [197.6]\n",
      " [184.9]\n",
      " [289.7]\n",
      " [135.2]\n",
      " [222.4]\n",
      " [296.4]\n",
      " [280.2]\n",
      " [187.9]\n",
      " [238.2]\n",
      " [137.9]\n",
      " [ 25. ]\n",
      " [ 90.4]\n",
      " [ 13.1]\n",
      " [255.4]\n",
      " [225.8]\n",
      " [241.7]\n",
      " [175.7]\n",
      " [209.6]\n",
      " [ 78.2]\n",
      " [ 75.1]\n",
      " [139.2]\n",
      " [ 76.4]\n",
      " [125.7]\n",
      " [ 19.4]\n",
      " [141.3]\n",
      " [ 18.8]\n",
      " [224. ]\n",
      " [123.1]\n",
      " [229.5]\n",
      " [ 87.2]\n",
      " [  7.8]\n",
      " [ 80.2]\n",
      " [220.3]\n",
      " [ 59.6]\n",
      " [  0.7]\n",
      " [265.2]\n",
      " [  8.4]\n",
      " [219.8]\n",
      " [ 36.9]\n",
      " [ 48.3]\n",
      " [ 25.6]\n",
      " [273.7]\n",
      " [ 43. ]\n",
      " [184.9]\n",
      " [ 73.4]\n",
      " [193.7]\n",
      " [220.5]\n",
      " [104.6]\n",
      " [ 96.2]\n",
      " [140.3]\n",
      " [240.1]\n",
      " [243.2]\n",
      " [ 38. ]\n",
      " [ 44.7]\n",
      " [280.7]\n",
      " [121. ]\n",
      " [197.6]\n",
      " [171.3]\n",
      " [187.8]\n",
      " [  4.1]\n",
      " [ 93.9]\n",
      " [149.8]\n",
      " [ 11.7]\n",
      " [131.7]\n",
      " [172.5]\n",
      " [ 85.7]\n",
      " [188.4]\n",
      " [163.5]\n",
      " [117.2]\n",
      " [234.5]\n",
      " [ 17.9]\n",
      " [206.8]\n",
      " [215.4]\n",
      " [284.3]\n",
      " [ 50. ]\n",
      " [164.5]\n",
      " [ 19.6]\n",
      " [168.4]\n",
      " [222.4]\n",
      " [276.9]\n",
      " [248.4]\n",
      " [170.2]\n",
      " [276.7]\n",
      " [165.6]\n",
      " [156.6]\n",
      " [218.5]\n",
      " [ 56.2]\n",
      " [287.6]\n",
      " [253.8]\n",
      " [205. ]\n",
      " [139.5]\n",
      " [191.1]\n",
      " [286. ]\n",
      " [ 18.7]\n",
      " [ 39.5]\n",
      " [ 75.5]\n",
      " [ 17.2]\n",
      " [166.8]\n",
      " [149.7]\n",
      " [ 38.2]\n",
      " [ 94.2]\n",
      " [177. ]\n",
      " [283.6]\n",
      " [232.1]]\n",
      "[[37.8]\n",
      " [39.3]\n",
      " [45.9]\n",
      " [41.3]\n",
      " [10.8]\n",
      " [48.9]\n",
      " [32.8]\n",
      " [19.6]\n",
      " [ 2.1]\n",
      " [ 2.6]\n",
      " [ 5.8]\n",
      " [24. ]\n",
      " [35.1]\n",
      " [ 7.6]\n",
      " [32.9]\n",
      " [47.7]\n",
      " [36.6]\n",
      " [39.6]\n",
      " [20.5]\n",
      " [23.9]\n",
      " [27.7]\n",
      " [ 5.1]\n",
      " [15.9]\n",
      " [16.9]\n",
      " [12.6]\n",
      " [ 3.5]\n",
      " [29.3]\n",
      " [16.7]\n",
      " [27.1]\n",
      " [16. ]\n",
      " [28.3]\n",
      " [17.4]\n",
      " [ 1.5]\n",
      " [20. ]\n",
      " [ 1.4]\n",
      " [ 4.1]\n",
      " [43.8]\n",
      " [49.4]\n",
      " [26.7]\n",
      " [37.7]\n",
      " [22.3]\n",
      " [33.4]\n",
      " [27.7]\n",
      " [ 8.4]\n",
      " [25.7]\n",
      " [22.5]\n",
      " [ 9.9]\n",
      " [41.5]\n",
      " [15.8]\n",
      " [11.7]\n",
      " [ 3.1]\n",
      " [ 9.6]\n",
      " [41.7]\n",
      " [46.2]\n",
      " [28.8]\n",
      " [49.4]\n",
      " [28.1]\n",
      " [19.2]\n",
      " [49.6]\n",
      " [29.5]\n",
      " [ 2. ]\n",
      " [42.7]\n",
      " [15.5]\n",
      " [29.6]\n",
      " [42.8]\n",
      " [ 9.3]\n",
      " [24.6]\n",
      " [14.5]\n",
      " [27.5]\n",
      " [43.9]\n",
      " [30.6]\n",
      " [14.3]\n",
      " [33. ]\n",
      " [ 5.7]\n",
      " [24.6]\n",
      " [43.7]\n",
      " [ 1.6]\n",
      " [28.5]\n",
      " [29.9]\n",
      " [ 7.7]\n",
      " [26.7]\n",
      " [ 4.1]\n",
      " [20.3]\n",
      " [44.5]\n",
      " [43. ]\n",
      " [18.4]\n",
      " [27.5]\n",
      " [40.6]\n",
      " [25.5]\n",
      " [47.8]\n",
      " [ 4.9]\n",
      " [ 1.5]\n",
      " [33.5]\n",
      " [36.5]\n",
      " [14. ]\n",
      " [31.6]\n",
      " [ 3.5]\n",
      " [21. ]\n",
      " [42.3]\n",
      " [41.7]\n",
      " [ 4.3]\n",
      " [36.3]\n",
      " [10.1]\n",
      " [17.2]\n",
      " [34.3]\n",
      " [46.4]\n",
      " [11. ]\n",
      " [ 0.3]\n",
      " [ 0.4]\n",
      " [26.9]\n",
      " [ 8.2]\n",
      " [38. ]\n",
      " [15.4]\n",
      " [20.6]\n",
      " [46.8]\n",
      " [35. ]\n",
      " [14.3]\n",
      " [ 0.8]\n",
      " [36.9]\n",
      " [16. ]\n",
      " [26.8]\n",
      " [21.7]\n",
      " [ 2.4]\n",
      " [34.6]\n",
      " [32.3]\n",
      " [11.8]\n",
      " [38.9]\n",
      " [ 0. ]\n",
      " [49. ]\n",
      " [12. ]\n",
      " [39.6]\n",
      " [ 2.9]\n",
      " [27.2]\n",
      " [33.5]\n",
      " [38.6]\n",
      " [47. ]\n",
      " [39. ]\n",
      " [28.9]\n",
      " [25.9]\n",
      " [43.9]\n",
      " [17. ]\n",
      " [35.4]\n",
      " [33.2]\n",
      " [ 5.7]\n",
      " [14.8]\n",
      " [ 1.9]\n",
      " [ 7.3]\n",
      " [49. ]\n",
      " [40.3]\n",
      " [25.8]\n",
      " [13.9]\n",
      " [ 8.4]\n",
      " [23.3]\n",
      " [39.7]\n",
      " [21.1]\n",
      " [11.6]\n",
      " [43.5]\n",
      " [ 1.3]\n",
      " [36.9]\n",
      " [18.4]\n",
      " [18.1]\n",
      " [35.8]\n",
      " [18.1]\n",
      " [36.8]\n",
      " [14.7]\n",
      " [ 3.4]\n",
      " [37.6]\n",
      " [ 5.2]\n",
      " [23.6]\n",
      " [10.6]\n",
      " [11.6]\n",
      " [20.9]\n",
      " [20.1]\n",
      " [ 7.1]\n",
      " [ 3.4]\n",
      " [48.9]\n",
      " [30.2]\n",
      " [ 7.8]\n",
      " [ 2.3]\n",
      " [10. ]\n",
      " [ 2.6]\n",
      " [ 5.4]\n",
      " [ 5.7]\n",
      " [43. ]\n",
      " [21.3]\n",
      " [45.1]\n",
      " [ 2.1]\n",
      " [28.7]\n",
      " [13.9]\n",
      " [12.1]\n",
      " [41.1]\n",
      " [10.8]\n",
      " [ 4.1]\n",
      " [42. ]\n",
      " [35.6]\n",
      " [ 3.7]\n",
      " [ 4.9]\n",
      " [ 9.3]\n",
      " [42. ]\n",
      " [ 8.6]]\n",
      "[[ 69.2]\n",
      " [ 45.1]\n",
      " [ 69.3]\n",
      " [ 58.5]\n",
      " [ 58.4]\n",
      " [ 75. ]\n",
      " [ 23.5]\n",
      " [ 11.6]\n",
      " [  1. ]\n",
      " [ 21.2]\n",
      " [ 24.2]\n",
      " [  4. ]\n",
      " [ 65.9]\n",
      " [  7.2]\n",
      " [ 46. ]\n",
      " [ 52.9]\n",
      " [114. ]\n",
      " [ 55.8]\n",
      " [ 18.3]\n",
      " [ 19.1]\n",
      " [ 53.4]\n",
      " [ 23.5]\n",
      " [ 49.6]\n",
      " [ 26.2]\n",
      " [ 18.3]\n",
      " [ 19.5]\n",
      " [ 12.6]\n",
      " [ 22.9]\n",
      " [ 22.9]\n",
      " [ 40.8]\n",
      " [ 43.2]\n",
      " [ 38.6]\n",
      " [ 30. ]\n",
      " [  0.3]\n",
      " [  7.4]\n",
      " [  8.5]\n",
      " [  5. ]\n",
      " [ 45.7]\n",
      " [ 35.1]\n",
      " [ 32. ]\n",
      " [ 31.6]\n",
      " [ 38.7]\n",
      " [  1.8]\n",
      " [ 26.4]\n",
      " [ 43.3]\n",
      " [ 31.5]\n",
      " [ 35.7]\n",
      " [ 18.5]\n",
      " [ 49.9]\n",
      " [ 36.8]\n",
      " [ 34.6]\n",
      " [  3.6]\n",
      " [ 39.6]\n",
      " [ 58.7]\n",
      " [ 15.9]\n",
      " [ 60. ]\n",
      " [ 41.4]\n",
      " [ 16.6]\n",
      " [ 37.7]\n",
      " [  9.3]\n",
      " [ 21.4]\n",
      " [ 54.7]\n",
      " [ 27.3]\n",
      " [  8.4]\n",
      " [ 28.9]\n",
      " [  0.9]\n",
      " [  2.2]\n",
      " [ 10.2]\n",
      " [ 11. ]\n",
      " [ 27.2]\n",
      " [ 38.7]\n",
      " [ 31.7]\n",
      " [ 19.3]\n",
      " [ 31.3]\n",
      " [ 13.1]\n",
      " [ 89.4]\n",
      " [ 20.7]\n",
      " [ 14.2]\n",
      " [  9.4]\n",
      " [ 23.1]\n",
      " [ 22.3]\n",
      " [ 36.9]\n",
      " [ 32.5]\n",
      " [ 35.6]\n",
      " [ 33.8]\n",
      " [ 65.7]\n",
      " [ 16. ]\n",
      " [ 63.2]\n",
      " [ 73.4]\n",
      " [ 51.4]\n",
      " [  9.3]\n",
      " [ 33. ]\n",
      " [ 59. ]\n",
      " [ 72.3]\n",
      " [ 10.9]\n",
      " [ 52.9]\n",
      " [  5.9]\n",
      " [ 22. ]\n",
      " [ 51.2]\n",
      " [ 45.9]\n",
      " [ 49.8]\n",
      " [100.9]\n",
      " [ 21.4]\n",
      " [ 17.9]\n",
      " [  5.3]\n",
      " [ 59. ]\n",
      " [ 29.7]\n",
      " [ 23.2]\n",
      " [ 25.6]\n",
      " [  5.5]\n",
      " [ 56.5]\n",
      " [ 23.2]\n",
      " [  2.4]\n",
      " [ 10.7]\n",
      " [ 34.5]\n",
      " [ 52.7]\n",
      " [ 25.6]\n",
      " [ 14.8]\n",
      " [ 79.2]\n",
      " [ 22.3]\n",
      " [ 46.2]\n",
      " [ 50.4]\n",
      " [ 15.6]\n",
      " [ 12.4]\n",
      " [ 74.2]\n",
      " [ 25.9]\n",
      " [ 50.6]\n",
      " [  9.2]\n",
      " [  3.2]\n",
      " [ 43.1]\n",
      " [  8.7]\n",
      " [ 43. ]\n",
      " [  2.1]\n",
      " [ 45.1]\n",
      " [ 65.6]\n",
      " [  8.5]\n",
      " [  9.3]\n",
      " [ 59.7]\n",
      " [ 20.5]\n",
      " [  1.7]\n",
      " [ 12.9]\n",
      " [ 75.6]\n",
      " [ 37.9]\n",
      " [ 34.4]\n",
      " [ 38.9]\n",
      " [  9. ]\n",
      " [  8.7]\n",
      " [ 44.3]\n",
      " [ 11.9]\n",
      " [ 20.6]\n",
      " [ 37. ]\n",
      " [ 48.7]\n",
      " [ 14.2]\n",
      " [ 37.7]\n",
      " [  9.5]\n",
      " [  5.7]\n",
      " [ 50.5]\n",
      " [ 24.3]\n",
      " [ 45.2]\n",
      " [ 34.6]\n",
      " [ 30.7]\n",
      " [ 49.3]\n",
      " [ 25.6]\n",
      " [  7.4]\n",
      " [  5.4]\n",
      " [ 84.8]\n",
      " [ 21.6]\n",
      " [ 19.4]\n",
      " [ 57.6]\n",
      " [  6.4]\n",
      " [ 18.4]\n",
      " [ 47.4]\n",
      " [ 17. ]\n",
      " [ 12.8]\n",
      " [ 13.1]\n",
      " [ 41.8]\n",
      " [ 20.3]\n",
      " [ 35.2]\n",
      " [ 23.7]\n",
      " [ 17.6]\n",
      " [  8.3]\n",
      " [ 27.4]\n",
      " [ 29.7]\n",
      " [ 71.8]\n",
      " [ 30. ]\n",
      " [ 19.6]\n",
      " [ 26.6]\n",
      " [ 18.2]\n",
      " [  3.7]\n",
      " [ 23.4]\n",
      " [  5.8]\n",
      " [  6. ]\n",
      " [ 31.6]\n",
      " [  3.6]\n",
      " [  6. ]\n",
      " [ 13.8]\n",
      " [  8.1]\n",
      " [  6.4]\n",
      " [ 66.2]\n",
      " [  8.7]]\n"
     ]
    }
   ],
   "source": [
    "# Dataset is stored in a Pandas Dataframe. Let us take out all the variables into a numpy array.\n",
    "Sales = Ad_df.sales.values.reshape(len(Ad_df['sales']), 1)\n",
    "TV = Ad_df.TV.values.reshape(len(Ad_df['sales']), 1)\n",
    "Radio = Ad_df.radio.values.reshape(len(Ad_df['sales']), 1)\n",
    "Newspaper = Ad_df.newspaper.values.reshape(len(Ad_df['sales']), 1)\n",
    "print(Sales)\n",
    "print(TV)\n",
    "print(Radio)\n",
    "print(Newspaper)"
   ]
  },
  {
   "cell_type": "code",
   "execution_count": 7,
   "metadata": {
    "colab": {
     "base_uri": "https://localhost:8080/",
     "height": 107
    },
    "id": "Q4CKboT-CBgP",
    "outputId": "f8a42090-b219-41dd-db44-d5d42077480d"
   },
   "outputs": [
    {
     "data": {
      "text/html": [
       "<div>\n",
       "<style scoped>\n",
       "    .dataframe tbody tr th:only-of-type {\n",
       "        vertical-align: middle;\n",
       "    }\n",
       "\n",
       "    .dataframe tbody tr th {\n",
       "        vertical-align: top;\n",
       "    }\n",
       "\n",
       "    .dataframe thead th {\n",
       "        text-align: right;\n",
       "    }\n",
       "</style>\n",
       "<table border=\"1\" class=\"dataframe\">\n",
       "  <thead>\n",
       "    <tr style=\"text-align: right;\">\n",
       "      <th></th>\n",
       "      <th>TV</th>\n",
       "      <th>Radio</th>\n",
       "      <th>Newspaper</th>\n",
       "    </tr>\n",
       "  </thead>\n",
       "  <tbody>\n",
       "    <tr>\n",
       "      <th>Intercept</th>\n",
       "      <td>7.032594</td>\n",
       "      <td>9.311638</td>\n",
       "      <td>12.351407</td>\n",
       "    </tr>\n",
       "    <tr>\n",
       "      <th>Coefficient</th>\n",
       "      <td>0.047537</td>\n",
       "      <td>0.202496</td>\n",
       "      <td>0.054693</td>\n",
       "    </tr>\n",
       "  </tbody>\n",
       "</table>\n",
       "</div>"
      ],
      "text/plain": [
       "                   TV     Radio  Newspaper\n",
       "Intercept    7.032594  9.311638  12.351407\n",
       "Coefficient  0.047537  0.202496   0.054693"
      ]
     },
     "execution_count": 7,
     "metadata": {},
     "output_type": "execute_result"
    }
   ],
   "source": [
    "# let us fit the simple linear regression model with the TV feature\n",
    "tv_model = linear_model.LinearRegression()\n",
    "tv_model.fit(TV, Sales)\n",
    "coeffs_tv = np.array(list(tv_model.intercept_.flatten()) + list(tv_model.coef_.flatten())) # array of co-efficients and intercept\n",
    "coeffs_tv = list(coeffs_tv) # convert array into list\n",
    "\n",
    "# let us fit the simple linear regression model with the Radio feature\n",
    "radio_model = linear_model.LinearRegression()\n",
    "radio_model.fit(Radio, Sales)\n",
    "coeffs_radio = np.array(list(radio_model.intercept_.flatten()) + list(radio_model.coef_.flatten()))\n",
    "coeffs_radio = list(coeffs_radio)\n",
    "\n",
    "# let us fit the simple linear regression model with the Newspaper feature\n",
    "newspaper_model = linear_model.LinearRegression()\n",
    "newspaper_model.fit(Newspaper, Sales)\n",
    "coeffs_newspaper = np.array(list(newspaper_model.intercept_.flatten()) + list(newspaper_model.coef_.flatten()))\n",
    "coeffs_newspaper = list(coeffs_newspaper)\n",
    "\n",
    "# let us store the above results in a dictionary and then display using a dataframe\n",
    "dict_Sales = {}\n",
    "dict_Sales[\"TV\"] = coeffs_tv\n",
    "dict_Sales[\"Radio\"] = coeffs_radio\n",
    "dict_Sales[\"Newspaper\"] = coeffs_newspaper\n",
    "\n",
    "metric_Df_SLR =  pd.DataFrame(dict_Sales)\n",
    "metric_Df_SLR.index = ['Intercept', 'Coefficient']\n",
    "metric_Df_SLR"
   ]
  },
  {
   "cell_type": "code",
   "execution_count": 8,
   "metadata": {
    "colab": {
     "base_uri": "https://localhost:8080/"
    },
    "id": "IFjl_ZoW_njD",
    "outputId": "565cbed8-9980-4342-e3ae-a71f12a60f06"
   },
   "outputs": [
    {
     "name": "stdout",
     "output_type": "stream",
     "text": [
      "TV simple linear regression R-Square : 0.611875050850071\n",
      "Radio simple linear regression R-Square : 0.33203245544529525\n",
      "Newspaper simple linear regression R-Square : 0.05212044544430516\n"
     ]
    },
    {
     "data": {
      "text/plain": [
       "[0.611875050850071, 0.33203245544529525, 0.05212044544430516]"
      ]
     },
     "execution_count": 8,
     "metadata": {},
     "output_type": "execute_result"
    }
   ],
   "source": [
    "# Let us now calculate R^2\n",
    "tv_rsq = tv_model.score(TV, Sales)\n",
    "radio_rsq = radio_model.score(Radio, Sales)\n",
    "newspaper_rsq = newspaper_model.score(Newspaper, Sales)\n",
    "\n",
    "print(\"TV simple linear regression R-Square :\", tv_rsq)\n",
    "print(\"Radio simple linear regression R-Square :\", radio_rsq)\n",
    "print(\"Newspaper simple linear regression R-Square :\", newspaper_rsq)\n",
    "\n",
    "# Create list of R2s to add to the dataframe\n",
    "list_rsq = [tv_rsq, radio_rsq, newspaper_rsq]\n",
    "list_rsq"
   ]
  },
  {
   "cell_type": "code",
   "execution_count": 9,
   "metadata": {
    "colab": {
     "base_uri": "https://localhost:8080/",
     "height": 137
    },
    "id": "jMAZXp21AGsB",
    "outputId": "ed6b95e1-2bf4-4393-8fc6-4b6fb4f3e701"
   },
   "outputs": [
    {
     "data": {
      "text/html": [
       "<div>\n",
       "<style scoped>\n",
       "    .dataframe tbody tr th:only-of-type {\n",
       "        vertical-align: middle;\n",
       "    }\n",
       "\n",
       "    .dataframe tbody tr th {\n",
       "        vertical-align: top;\n",
       "    }\n",
       "\n",
       "    .dataframe thead th {\n",
       "        text-align: right;\n",
       "    }\n",
       "</style>\n",
       "<table border=\"1\" class=\"dataframe\">\n",
       "  <thead>\n",
       "    <tr style=\"text-align: right;\">\n",
       "      <th></th>\n",
       "      <th>TV</th>\n",
       "      <th>Radio</th>\n",
       "      <th>Newspaper</th>\n",
       "    </tr>\n",
       "  </thead>\n",
       "  <tbody>\n",
       "    <tr>\n",
       "      <th>Intercept</th>\n",
       "      <td>7.032594</td>\n",
       "      <td>9.311638</td>\n",
       "      <td>12.351407</td>\n",
       "    </tr>\n",
       "    <tr>\n",
       "      <th>Coefficient</th>\n",
       "      <td>0.047537</td>\n",
       "      <td>0.202496</td>\n",
       "      <td>0.054693</td>\n",
       "    </tr>\n",
       "    <tr>\n",
       "      <th>R-Squared</th>\n",
       "      <td>0.611875</td>\n",
       "      <td>0.332032</td>\n",
       "      <td>0.052120</td>\n",
       "    </tr>\n",
       "  </tbody>\n",
       "</table>\n",
       "</div>"
      ],
      "text/plain": [
       "                   TV     Radio  Newspaper\n",
       "Intercept    7.032594  9.311638  12.351407\n",
       "Coefficient  0.047537  0.202496   0.054693\n",
       "R-Squared    0.611875  0.332032   0.052120"
      ]
     },
     "execution_count": 9,
     "metadata": {},
     "output_type": "execute_result"
    }
   ],
   "source": [
    "metric_Df_SLR.loc['R-Squared'] = list_rsq\n",
    "metric_Df_SLR"
   ]
  },
  {
   "cell_type": "markdown",
   "metadata": {
    "id": "Es84uRdJhs4i"
   },
   "source": [
    "**Observations:** We can see that TV has the highest R^2 value i.e. 61% followed by Radio and Newspaper"
   ]
  },
  {
   "cell_type": "markdown",
   "metadata": {
    "id": "6x63PBJxhs4i"
   },
   "source": [
    "Let's try to visualize the best fit line using the regression plot"
   ]
  },
  {
   "cell_type": "code",
   "execution_count": 10,
   "metadata": {
    "colab": {
     "base_uri": "https://localhost:8080/",
     "height": 803
    },
    "id": "_R45kkSNQxPx",
    "outputId": "a051ffa7-cf28-41ae-8fcd-32d0ee2ad30a"
   },
   "outputs": [
    {
     "data": {
      "image/png": "[encoded data removed]",
      "text/plain": [
       "<Figure size 640x480 with 1 Axes>"
      ]
     },
     "metadata": {},
     "output_type": "display_data"
    },
    {
     "data": {
      "image/png": "[encoded data removed]",
      "text/plain": [
       "<Figure size 640x480 with 1 Axes>"
      ]
     },
     "metadata": {},
     "output_type": "display_data"
    },
    {
     "data": {
      "image/png": "[encoded data removed]",
      "text/plain": [
       "<Figure size 640x480 with 1 Axes>"
      ]
     },
     "metadata": {},
     "output_type": "display_data"
    }
   ],
   "source": [
    "plt.scatter(TV, Sales,  color='blue')\n",
    "plt.xlabel('TV Ads')\n",
    "plt.ylabel('Sales')\n",
    "plt.plot(TV, tv_model.predict(TV), color='red', linewidth=3) # Plot the regression line\n",
    "plt.show()\n",
    "\n",
    "plt.scatter(Radio, Sales,  color='blue')\n",
    "plt.xlabel('Radio Ads')\n",
    "plt.ylabel('Sales')\n",
    "plt.plot(Radio, radio_model.predict(Radio), color='red', linewidth=3)\n",
    "plt.show()\n",
    "\n",
    "plt.scatter(Newspaper, Sales,  color='blue')\n",
    "plt.xlabel('Newspaper Ads')\n",
    "plt.ylabel('Sales')\n",
    "plt.plot(Newspaper, newspaper_model.predict(Newspaper), color='red', linewidth=3)\n",
    "plt.show()\n"
   ]
  },
  {
   "cell_type": "markdown",
   "metadata": {},
   "source": [
    "We see that the regression line has a better fit for the TV ads, and the worst fit for Newspaper ads. "
   ]
  },
  {
   "cell_type": "markdown",
   "metadata": {
    "id": "QxiuPBWPQnKm"
   },
   "source": [
    "## Multiple Linear Regression"
   ]
  },
  {
   "cell_type": "code",
   "execution_count": 11,
   "metadata": {
    "colab": {
     "base_uri": "https://localhost:8080/"
    },
    "id": "p0XdOsasQ_uq",
    "outputId": "1e84b03f-b378-45d7-9dc5-eaf412a0d233"
   },
   "outputs": [
    {
     "data": {
      "text/plain": [
       "LinearRegression()"
      ]
     },
     "execution_count": 11,
     "metadata": {},
     "output_type": "execute_result"
    }
   ],
   "source": [
    "# Multiple Linear Regression Model\n",
    "mlr_model = linear_model.LinearRegression() # Instantiate the linear regression model\n",
    "mlr_model.fit(Ad_df[['TV', 'radio', 'newspaper']], Ad_df['sales']) # Set the features and target variable"
   ]
  },
  {
   "cell_type": "code",
   "execution_count": 12,
   "metadata": {
    "id": "f45Fynt_WSIr"
   },
   "outputs": [],
   "source": [
    "# Create a column in the dataframe that predicts sales for TV, radio, and newspaper\n",
    "Ad_df['Sales_Predicted']  = mlr_model.predict(Ad_df[['TV', 'radio', 'newspaper']]) \n",
    "\n",
    "# Create another column in the dataframe containing the squared values of difference between actual sales and predicted sales\n",
    "Ad_df['Error'] = (Ad_df['Sales_Predicted'] - Ad_df['sales'])**2\n",
    "\n",
    "# Calculate the mean of the squared errors (MSE)\n",
    "MSE_MLR = Ad_df['Error'].mean()"
   ]
  },
  {
   "cell_type": "code",
   "execution_count": 13,
   "metadata": {
    "colab": {
     "base_uri": "https://localhost:8080/"
    },
    "id": "2IR7lKmrYCpl",
    "outputId": "6396556a-5894-4906-8813-df3812f74706"
   },
   "outputs": [
    {
     "data": {
      "text/plain": [
       "2.7841263145109356"
      ]
     },
     "execution_count": 13,
     "metadata": {},
     "output_type": "execute_result"
    }
   ],
   "source": [
    "MSE_MLR"
   ]
  },
  {
   "cell_type": "markdown",
   "metadata": {},
   "source": [
    "The average squared difference between the predicted and actual values is relatively low. To further understand the context of MSE and the performance of the model, we need the R2 value. "
   ]
  },
  {
   "cell_type": "code",
   "execution_count": 14,
   "metadata": {
    "colab": {
     "base_uri": "https://localhost:8080/"
    },
    "id": "yXJ6F7b5OqPI",
    "outputId": "86c85dea-76e6-4860-e13f-f315c9407c2d"
   },
   "outputs": [
    {
     "data": {
      "text/plain": [
       "0.8972106381789521"
      ]
     },
     "execution_count": 14,
     "metadata": {},
     "output_type": "execute_result"
    }
   ],
   "source": [
    "# Calculate the R2 value for multiple LRM\n",
    "mlr_model.score(Ad_df[['TV', 'radio', 'newspaper']], Ad_df['sales'])"
   ]
  },
  {
   "cell_type": "markdown",
   "metadata": {
    "id": "qsZJ-jimhs4k"
   },
   "source": [
    "**Observations:** \n",
    "- The **R^2 value** for the multiple linear regression comes out to be **89.7%** i.e. way **better than simple linear regression**\n",
    "- An R2 value of 0.89 means that the model is able to explain 89% of the variance in the sales variable based on its predictors. - This implies that the **model is a relatively good fit for the data** and is able to capture most of the variation in the sales variable that can be explained by the predictor variables."
   ]
  },
  {
   "cell_type": "markdown",
   "metadata": {
    "id": "UijVypbEhs4k"
   },
   "source": [
    "Let's now try to use **statsmodel** to get a more detailed model interpretation"
   ]
  },
  {
   "cell_type": "code",
   "execution_count": 15,
   "metadata": {
    "colab": {
     "base_uri": "https://localhost:8080/"
    },
    "id": "qjFCh7tkWf0M",
    "outputId": "5dbf05c8-631e-4d00-9b19-743ba7e18954"
   },
   "outputs": [
    {
     "name": "stdout",
     "output_type": "stream",
     "text": [
      "                            OLS Regression Results                            \n",
      "==============================================================================\n",
      "Dep. Variable:                  Sales   R-squared:                       0.897\n",
      "Model:                            OLS   Adj. R-squared:                  0.896\n",
      "Method:                 Least Squares   F-statistic:                     570.3\n",
      "Date:                Sat, 01 Apr 2023   Prob (F-statistic):           1.58e-96\n",
      "Time:                        14:45:03   Log-Likelihood:                -386.18\n",
      "No. Observations:                 200   AIC:                             780.4\n",
      "Df Residuals:                     196   BIC:                             793.6\n",
      "Df Model:                           3                                         \n",
      "Covariance Type:            nonrobust                                         \n",
      "==============================================================================\n",
      "                 coef    std err          t      P>|t|      [0.025      0.975]\n",
      "------------------------------------------------------------------------------\n",
      "Intercept      2.9389      0.312      9.422      0.000       2.324       3.554\n",
      "TV             0.0458      0.001     32.809      0.000       0.043       0.049\n",
      "Radio          0.1885      0.009     21.893      0.000       0.172       0.206\n",
      "Newspaper     -0.0010      0.006     -0.177      0.860      -0.013       0.011\n",
      "==============================================================================\n",
      "Omnibus:                       60.414   Durbin-Watson:                   2.084\n",
      "Prob(Omnibus):                  0.000   Jarque-Bera (JB):              151.241\n",
      "Skew:                          -1.327   Prob(JB):                     1.44e-33\n",
      "Kurtosis:                       6.332   Cond. No.                         454.\n",
      "==============================================================================\n",
      "\n",
      "Notes:\n",
      "[1] Standard Errors assume that the covariance matrix of the errors is correctly specified.\n"
     ]
    }
   ],
   "source": [
    "# let us get a more detailed model through statsmodel.\n",
    "import statsmodels.formula.api as smf\n",
    "lm1 = smf.ols(formula= 'Sales ~ TV+Radio+Newspaper', data = Ad_df).fit()\n",
    "lm1.params\n",
    "print(lm1.summary())  #Inferential statistics"
   ]
  },
  {
   "cell_type": "code",
   "execution_count": 16,
   "metadata": {
    "colab": {
     "base_uri": "https://localhost:8080/"
    },
    "id": "w2aGVrtKnY7G",
    "outputId": "52b420f6-4dd9-427d-d7f6-b3768e289483"
   },
   "outputs": [
    {
     "name": "stdout",
     "output_type": "stream",
     "text": [
      "*************Parameters**************\n",
      "Intercept    2.938889\n",
      "TV           0.045765\n",
      "Radio        0.188530\n",
      "Newspaper   -0.001037\n",
      "dtype: float64\n",
      "*************P-Values**************\n",
      "Intercept    1.267295e-17\n",
      "TV           1.509960e-81\n",
      "Radio        1.505339e-54\n",
      "Newspaper    8.599151e-01\n",
      "dtype: float64\n",
      "************Standard Errors***************\n",
      "Intercept    0.311908\n",
      "TV           0.001395\n",
      "Radio        0.008611\n",
      "Newspaper    0.005871\n",
      "dtype: float64\n",
      "*************Confidence Interval**************\n",
      "                  0         1\n",
      "Intercept  2.323762  3.554016\n",
      "TV         0.043014  0.048516\n",
      "Radio      0.171547  0.205513\n",
      "Newspaper -0.012616  0.010541\n",
      "*************Error Covariance Matrix**************\n",
      "           Intercept            TV         Radio     Newspaper\n",
      "Intercept   0.097287 -2.657273e-04 -1.115489e-03 -5.910212e-04\n",
      "TV         -0.000266  1.945737e-06 -4.470395e-07 -3.265950e-07\n",
      "Radio      -0.001115 -4.470395e-07  7.415335e-05 -1.780062e-05\n",
      "Newspaper  -0.000591 -3.265950e-07 -1.780062e-05  3.446875e-05\n"
     ]
    }
   ],
   "source": [
    "print(\"*************Parameters**************\")\n",
    "print(lm1.params)\n",
    "print(\"*************P-Values**************\")\n",
    "print(lm1.pvalues)\n",
    "print(\"************Standard Errors***************\")\n",
    "print(lm1.bse) \n",
    "print(\"*************Confidence Interval**************\")\n",
    "print(lm1.conf_int())\n",
    "print(\"*************Error Covariance Matrix**************\")\n",
    "print(lm1.cov_params())\n"
   ]
  },
  {
   "cell_type": "markdown",
   "metadata": {},
   "source": [
    "- The **R-squared value** of the model is **0.897**, which means that approximately 89.7% of the variability in the Sales variable can be explained by the predictor variables.\n",
    "- The **Adjusted R-squared value** is **0.896**, which takes into account the number of predictor variables in the model and penalizes the R-squared value for adding unnecessary predictors.\n",
    "- The **F-statistic** of the model is **570.3** with a **corresponding probability (p-value) of 1.58e-96**, which indicates that the model as a whole is statistically significant in predicting the Sales variable.\n",
    "- The **intercept term of the model is 2.9389**, which represents the expected value of the Sales variable when all the predictor variables are zero. \n",
    "- The **coefficients for the predictor variables TV, Radio, and Newspaper are 0.0458, 0.1885, and -0.0010**, respectively. These coefficients represent the expected change in the Sales variable for a one-unit increase in each corresponding predictor variable, while holding the other predictor variables constant."
   ]
  },
  {
   "cell_type": "markdown",
   "metadata": {},
   "source": [
    "#### Visualizing the confidence bands in Simple linear regression"
   ]
  },
  {
   "cell_type": "code",
   "execution_count": 17,
   "metadata": {
    "colab": {
     "base_uri": "https://localhost:8080/",
     "height": 1000
    },
    "id": "daxXRhFiip3e",
    "outputId": "97113a83-dc13-4b6f-c95d-7158305f0016"
   },
   "outputs": [
    {
     "data": {
      "text/plain": [
       "<seaborn.axisgrid.FacetGrid at 0x223bad886a0>"
      ]
     },
     "execution_count": 17,
     "metadata": {},
     "output_type": "execute_result"
    },
    {
     "data": {
      "image/png": "[encoded data removed]",
      "text/plain": [
       "<Figure size 500x500 with 1 Axes>"
      ]
     },
     "metadata": {},
     "output_type": "display_data"
    },
    {
     "data": {
      "image/png": "[encoded data removed]",
      "text/plain": [
       "<Figure size 500x500 with 1 Axes>"
      ]
     },
     "metadata": {},
     "output_type": "display_data"
    },
    {
     "data": {
      "image/png": "[encoded data removed]",
      "text/plain": [
       "<Figure size 500x500 with 1 Axes>"
      ]
     },
     "metadata": {},
     "output_type": "display_data"
    }
   ],
   "source": [
    "# lmplot is a Linear Regression Model Plot\n",
    "import seaborn as sns\n",
    "sns.lmplot(x = 'TV', y = 'sales', data = Ad_df)\n",
    "\n",
    "sns.lmplot(x = 'radio', y = 'sales', data = Ad_df )\n",
    "\n",
    "sns.lmplot(x = 'newspaper', y = 'sales', data = Ad_df)"
   ]
  },
  {
   "cell_type": "markdown",
   "metadata": {},
   "source": [
    "- The **confidence band** represents the range of values within which the true regression line is expected to fall with a certain level of confidence.\n",
    "- It is seen that the confidence band around the regression line for **TV ads is narrow** (relatively precise relationship), while for **newspaper ads is really wide**. This indicates a **large degree of uncertainty** in the estimate of the relationship between sales and newspaper ads.  "
   ]
  },
  {
   "cell_type": "markdown",
   "metadata": {
    "id": "GGCcusUsz_Az"
   },
   "source": [
    "# Model Evaluation\n",
    "### Cross validation \n",
    "\n",
    "- We realize that the newspaper can be omitted from the list of significant features owing to the p-value associated with the t-statistic. (from the OLS regression results, the `p-value for newspaper ads is significant`, and  this feature is not a significant predictor of the target variable and can be omitted from the model without affecting its overall performance.)\n",
    "- Let us now run the regression analysis adding a multiplicative feature in it."
   ]
  },
  {
   "cell_type": "code",
   "execution_count": 18,
   "metadata": {
    "id": "zTSASn2az9-B"
   },
   "outputs": [],
   "source": [
    "# Create a new feature - TV*Radio\n",
    "Ad_df['TVandRadio'] = Ad_df['TV']*Ad_df['radio']"
   ]
  },
  {
   "cell_type": "code",
   "execution_count": 19,
   "metadata": {
    "id": "h_EfN22CWf5W"
   },
   "outputs": [],
   "source": [
    "# Remove the sales_predicted and the error column generated earlier\n",
    "Ad_df.drop(columns = [\"Error\", \"Sales_Predicted\"], inplace = True)"
   ]
  },
  {
   "cell_type": "code",
   "execution_count": 20,
   "metadata": {
    "colab": {
     "base_uri": "https://localhost:8080/"
    },
    "id": "rz8DKNiF2QxK",
    "outputId": "03de5d64-01ed-4699-bb1f-8830b5247928"
   },
   "outputs": [
    {
     "name": "stdout",
     "output_type": "stream",
     "text": [
      "                            OLS Regression Results                            \n",
      "==============================================================================\n",
      "Dep. Variable:                  Sales   R-squared:                       0.968\n",
      "Model:                            OLS   Adj. R-squared:                  0.967\n",
      "Method:                 Least Squares   F-statistic:                     1466.\n",
      "Date:                Sat, 01 Apr 2023   Prob (F-statistic):          2.92e-144\n",
      "Time:                        14:45:05   Log-Likelihood:                -270.04\n",
      "No. Observations:                 200   AIC:                             550.1\n",
      "Df Residuals:                     195   BIC:                             566.6\n",
      "Df Model:                           4                                         \n",
      "Covariance Type:            nonrobust                                         \n",
      "==============================================================================\n",
      "                 coef    std err          t      P>|t|      [0.025      0.975]\n",
      "------------------------------------------------------------------------------\n",
      "Intercept      6.7284      0.253     26.561      0.000       6.229       7.228\n",
      "TV             0.0191      0.002     12.633      0.000       0.016       0.022\n",
      "Radio          0.0280      0.009      3.062      0.003       0.010       0.046\n",
      "Newspaper      0.0014      0.003      0.438      0.662      -0.005       0.008\n",
      "TVandRadio     0.0011   5.26e-05     20.686      0.000       0.001       0.001\n",
      "==============================================================================\n",
      "Omnibus:                      126.161   Durbin-Watson:                   2.216\n",
      "Prob(Omnibus):                  0.000   Jarque-Bera (JB):             1123.463\n",
      "Skew:                          -2.291   Prob(JB):                    1.10e-244\n",
      "Kurtosis:                      13.669   Cond. No.                     1.84e+04\n",
      "==============================================================================\n",
      "\n",
      "Notes:\n",
      "[1] Standard Errors assume that the covariance matrix of the errors is correctly specified.\n",
      "[2] The condition number is large, 1.84e+04. This might indicate that there are\n",
      "strong multicollinearity or other numerical problems.\n"
     ]
    }
   ],
   "source": [
    "# Modelling with the new feature\n",
    "import statsmodels.formula.api as smf\n",
    "lm2 = smf.ols(formula= 'Sales ~ TV+Radio+Newspaper+TVandRadio', data = Ad_df).fit()\n",
    "lm2.params\n",
    "print(lm2.summary())  #Inferential statistics"
   ]
  },
  {
   "cell_type": "markdown",
   "metadata": {
    "id": "NslaNwMQFjL1"
   },
   "source": [
    "**Observations**\n",
    "- The output shows the estimated coefficients for each predictor variable, as well as the intercept term. The \"std err\" column provides the standard error of each coefficient estimate, and the \"t\" column gives the corresponding t-statistic. The \"P>|t|\" column provides the p-value associated with each t-statistic, indicating the statistical significance of each predictor variable.\n",
    "- We see an **increase in the R-square here**. \n",
    "\n",
    "However, is this model useful for prediction? Does it predict well for the unseen data? Let us find out!"
   ]
  },
  {
   "cell_type": "markdown",
   "metadata": {
    "id": "d46mQv0BUKZ8"
   },
   "source": [
    "### Performance assessment, testing and validation"
   ]
  },
  {
   "cell_type": "markdown",
   "metadata": {
    "id": "-EAcqssG3pr0"
   },
   "source": [
    "#### Train, Test, and Validation set\n",
    "- We will split data into three sets, one to train the model, one to validate the model performance (not seen during training) and make improvements, and the last to test the model."
   ]
  },
  {
   "cell_type": "code",
   "execution_count": 21,
   "metadata": {
    "id": "uQTTvaQ_3C6D"
   },
   "outputs": [],
   "source": [
    "from sklearn.model_selection import train_test_split"
   ]
  },
  {
   "cell_type": "code",
   "execution_count": 22,
   "metadata": {
    "id": "RRerX1zyDUlM"
   },
   "outputs": [],
   "source": [
    "# List that includes all columns from df excluding sales and TVandRadio\n",
    "features_base = [i for i in Ad_df.columns if i not in (\"sales\" , \"TVandRadio\")]\n",
    "\n",
    "# List including all columns in df except sales\n",
    "features_added = [i for i in Ad_df.columns if i not in \"sales\"]\n",
    "\n",
    "#Split data into target, train, and test\n",
    "target  = 'sales'\n",
    "train, test = train_test_split(Ad_df, test_size = 0.10, train_size = 0.9)"
   ]
  },
  {
   "cell_type": "code",
   "execution_count": 23,
   "metadata": {
    "id": "ztuTrjlsDUq0"
   },
   "outputs": [],
   "source": [
    "# Spilt train data into train and validation\n",
    "train, validation = train_test_split(train, test_size = 0.2, train_size = 0.80)"
   ]
  },
  {
   "cell_type": "code",
   "execution_count": 24,
   "metadata": {
    "colab": {
     "base_uri": "https://localhost:8080/"
    },
    "id": "jgm44JjJDUtK",
    "outputId": "70e21eef-268e-4057-edaf-9ccad11bfb3c"
   },
   "outputs": [
    {
     "data": {
      "text/plain": [
       "((144, 5), (36, 5), (20, 5))"
      ]
     },
     "execution_count": 24,
     "metadata": {},
     "output_type": "execute_result"
    }
   ],
   "source": [
    "train.shape, validation.shape,test.shape"
   ]
  },
  {
   "cell_type": "code",
   "execution_count": 25,
   "metadata": {
    "colab": {
     "base_uri": "https://localhost:8080/"
    },
    "id": "BCsbEBPoDUwm",
    "outputId": "c0379528-f2c5-4266-d184-084272c7c1a2"
   },
   "outputs": [
    {
     "name": "stdout",
     "output_type": "stream",
     "text": [
      "*********Training set Metrics**************\n",
      "R-Squared: 0.8989773438966847\n",
      "MSE:  2.620997296822977\n",
      "********Validation set Metrics**************\n",
      "R-Squared: 0.8682183948413035\n",
      "MSE:  3.268257019938539\n"
     ]
    }
   ],
   "source": [
    "# now let us start with the modelling\n",
    "from sklearn.linear_model import LinearRegression\n",
    "\n",
    "# Create an instance of LinearRegression class and store in mlr\n",
    "mlr = LinearRegression()\n",
    "\n",
    "# Fit the model to training data\n",
    "mlr.fit(train[features_base], train[target])\n",
    "\n",
    "# Print header\n",
    "print(\"*********Training set Metrics**************\")\n",
    "\n",
    "# Calculate and print R2 value\n",
    "print(\"R-Squared:\", mlr.score(train[features_base], train[target]))\n",
    "\n",
    "# Calculate squared error b/w actual and predicted value\n",
    "se_train = (train[target] - mlr.predict(train[features_base]))**2\n",
    "\n",
    "# Calculate and print mean squared error\n",
    "mse_train = se_train.mean()\n",
    "print('MSE: ', mse_train)\n",
    "\n",
    "# Print header\n",
    "print(\"********Validation set Metrics**************\")\n",
    "\n",
    "# R squared for validation set\n",
    "print(\"R-Squared:\", mlr.score(validation[features_base], validation[target]))\n",
    "\n",
    "# SE \n",
    "se_val = (validation[target] - mlr.predict(validation[features_base]))**2\n",
    "\n",
    "# MSE\n",
    "mse_val = se_val.mean()\n",
    "print('MSE: ', mse_val)"
   ]
  },
  {
   "cell_type": "markdown",
   "metadata": {},
   "source": [
    "We have evaluated the performance of the linear regression model on the training and validation sets. As seen, the model performs well on both the training and validation sets."
   ]
  },
  {
   "cell_type": "code",
   "execution_count": 26,
   "metadata": {
    "colab": {
     "base_uri": "https://localhost:8080/"
    },
    "id": "BhMVT0OoI-ZR",
    "outputId": "04a4abfe-d2f9-46f0-87f7-721e493f15d1"
   },
   "outputs": [
    {
     "name": "stdout",
     "output_type": "stream",
     "text": [
      "*********Training set Metrics**************\n",
      "R-Squared: 0.9684401088657385\n",
      "MSE:  0.8188102802041874\n",
      "********Validation set Metrics**************\n",
      "R-Squared: 0.9742273467654788\n",
      "MSE:  0.6391761183568092\n"
     ]
    }
   ],
   "source": [
    "# Can we increase the model performance by adding the new feature? \n",
    "# We found that to be the case in the analysis above but let's check the same for the validation dataset\n",
    "\n",
    "mlr_added_feature = LinearRegression()\n",
    "mlr_added_feature.fit(train[features_added], train[target])\n",
    "\n",
    "print(\"*********Training set Metrics**************\")\n",
    "print(\"R-Squared:\", mlr_added_feature.score(train[features_added], train[target]))\n",
    "se_train = (train[target] - mlr_added_feature.predict(train[features_added]))**2\n",
    "mse_train = se_train.mean()\n",
    "print('MSE: ', mse_train)\n",
    "print(\"********Validation set Metrics**************\")\n",
    "print(\"R-Squared:\", mlr_added_feature.score(validation[features_added], validation[target]))\n",
    "se_val = (validation[target] - mlr_added_feature.predict(validation[features_added]))**2\n",
    "mse_val = se_val.mean()\n",
    "print('MSE: ', mse_val)"
   ]
  },
  {
   "cell_type": "markdown",
   "metadata": {
    "id": "b6lpvtsONOad"
   },
   "source": [
    "**Observations**\n",
    "- We found the `R-squared increased` as we would expect `after adding a feature`. Also the `error decreased`. Let us now fit a regularized model."
   ]
  },
  {
   "cell_type": "markdown",
   "metadata": {},
   "source": [
    "## Regularization "
   ]
  },
  {
   "cell_type": "code",
   "execution_count": 27,
   "metadata": {
    "colab": {
     "base_uri": "https://localhost:8080/"
    },
    "id": "zvJSmJcAQ5-L",
    "outputId": "63767378-2ff9-4ee1-9b62-d8cb15a811a5"
   },
   "outputs": [
    {
     "data": {
      "text/plain": [
       "['TV', 'radio', 'newspaper', 'TVandRadio']"
      ]
     },
     "execution_count": 27,
     "metadata": {},
     "output_type": "execute_result"
    }
   ],
   "source": [
    "features_added"
   ]
  },
  {
   "cell_type": "markdown",
   "metadata": {},
   "source": [
    "### Fit a Ridge Regression model on training set"
   ]
  },
  {
   "cell_type": "code",
   "execution_count": 28,
   "metadata": {
    "colab": {
     "base_uri": "https://localhost:8080/"
    },
    "id": "aZoBlRnCKge6",
    "outputId": "35c9fbe9-98eb-45c0-c2a7-6b4a528cd5c7"
   },
   "outputs": [
    {
     "name": "stdout",
     "output_type": "stream",
     "text": [
      "*********Training set Metrics**************\n",
      "R-Squared: 0.9684401088399249\n",
      "MSE:  0.8188102808739129\n",
      "********Validation set Metrics**************\n",
      "R-Squared: 0.9742276468226228\n",
      "MSE:  0.6391686767729428\n"
     ]
    }
   ],
   "source": [
    "from sklearn.linear_model import Ridge\n",
    "from sklearn.linear_model import Lasso\n",
    "\n",
    "#fitting Ridge with the default features\n",
    "ridge = Ridge()\n",
    "ridge.fit(train[features_added], train[target])\n",
    "\n",
    "print(\"*********Training set Metrics**************\")\n",
    "\n",
    "print(\"R-Squared:\", ridge.score(train[features_added], train[target]))\n",
    "\n",
    "se_train = (train[target] - ridge.predict(train[features_added]))**2\n",
    "mse_train = se_train.mean()\n",
    "print('MSE: ', mse_train)\n",
    "\n",
    "print(\"********Validation set Metrics**************\")\n",
    "\n",
    "print(\"R-Squared:\", ridge.score(validation[features_added], validation[target]))\n",
    "\n",
    "se_val = (validation[target] - ridge.predict(validation[features_added]))**2\n",
    "mse_val = se_val.mean()\n",
    "print('MSE: ', mse_val)"
   ]
  },
  {
   "cell_type": "markdown",
   "metadata": {},
   "source": [
    "- The R squared value for the training and test sets are quite the same here"
   ]
  },
  {
   "cell_type": "markdown",
   "metadata": {},
   "source": [
    "### Fit a Lasso Regression model on training set"
   ]
  },
  {
   "cell_type": "code",
   "execution_count": 29,
   "metadata": {
    "colab": {
     "base_uri": "https://localhost:8080/"
    },
    "id": "oL3Px7TORUVN",
    "outputId": "7f4f9f05-2222-4172-b2d7-0c4d470bc211"
   },
   "outputs": [
    {
     "name": "stdout",
     "output_type": "stream",
     "text": [
      "*********Training set Metrics**************\n",
      "R-Squared: 0.9675315567638371\n",
      "MSE:  0.842382345075173\n",
      "********Validation set Metrics**************\n",
      "R-Squared: 0.9756056774311809\n",
      "MSE:  0.6049927521081412\n"
     ]
    }
   ],
   "source": [
    "from sklearn.linear_model import Ridge\n",
    "from sklearn.linear_model import Lasso\n",
    "\n",
    "#fitting Lasso with the default features\n",
    "lasso = Lasso()\n",
    "lasso.fit(train[features_added], train[target])\n",
    "\n",
    "print(\"*********Training set Metrics**************\")\n",
    "print(\"R-Squared:\", lasso.score(train[features_added], train[target]))\n",
    "se_train = (train[target] - lasso.predict(train[features_added]))**2\n",
    "mse_train = se_train.mean()\n",
    "print('MSE: ', mse_train)\n",
    "print(\"********Validation set Metrics**************\")\n",
    "print(\"R-Squared:\", lasso.score(validation[features_added], validation[target]))\n",
    "se_val = (validation[target] - lasso.predict(validation[features_added]))**2\n",
    "mse_val = se_val.mean()\n",
    "print('MSE: ', mse_val)"
   ]
  },
  {
   "cell_type": "code",
   "execution_count": 30,
   "metadata": {
    "colab": {
     "base_uri": "https://localhost:8080/"
    },
    "id": "auLl5-cWRhKb",
    "outputId": "547a604e-d1ce-4364-c753-a0860242ec4e"
   },
   "outputs": [
    {
     "name": "stdout",
     "output_type": "stream",
     "text": [
      "*****************Test set Metrics******************\n",
      "Rsquared:  0.9520436430914012\n",
      "MSE:  1.835726181739944\n",
      "Intercept is 7.050831296111644 and Coefficients are [0.01786591 0.02483811 0.0009921  0.00109058]\n"
     ]
    }
   ],
   "source": [
    "#Let us predict on the unseen data using Ridge\n",
    "\n",
    "rsq_test = ridge.score(test[features_added], test[target])\n",
    "se_test = (test[target] - ridge.predict(test[features_added]))**2\n",
    "mse_test = se_test.mean()\n",
    "\n",
    "print(\"*****************Test set Metrics******************\")\n",
    "\n",
    "print(\"Rsquared: \", rsq_test)\n",
    "print(\"MSE: \", mse_test)\n",
    "print(\"Intercept is {} and Coefficients are {}\".format(ridge.intercept_, ridge.coef_))"
   ]
  },
  {
   "cell_type": "markdown",
   "metadata": {},
   "source": [
    "* The performance of the ridge model on the test set is very good. "
   ]
  },
  {
   "cell_type": "markdown",
   "metadata": {
    "id": "SvdZcoUc9r4C"
   },
   "source": [
    "- We will now evaluate the performance using the LooCV and KFold methods.\n",
    "\n",
    "### K-Fold and LooCV (Leave One Out Cross Validation)"
   ]
  },
  {
   "cell_type": "code",
   "execution_count": 31,
   "metadata": {
    "id": "tY9Rz4rf9ql5"
   },
   "outputs": [],
   "source": [
    "from sklearn.linear_model import Ridge\n",
    "from sklearn.linear_model import Lasso\n",
    "from sklearn.model_selection import cross_val_score"
   ]
  },
  {
   "cell_type": "code",
   "execution_count": 32,
   "metadata": {
    "colab": {
     "base_uri": "https://localhost:8080/",
     "height": 105
    },
    "id": "WMcwry-h64ZA",
    "outputId": "aac321a0-ab04-4655-95de-f9ab260b03c4"
   },
   "outputs": [
    {
     "name": "stdout",
     "output_type": "stream",
     "text": [
      "Mean Score:\n",
      "0.9649887636257694 \n",
      "\n",
      "Confidence Interval:\n"
     ]
    },
    {
     "data": {
      "text/plain": [
       "(0.9430473456799696, 0.9869301815715691)"
      ]
     },
     "execution_count": 32,
     "metadata": {},
     "output_type": "execute_result"
    }
   ],
   "source": [
    "# Use Ridge to perform 10-fold cross validation\n",
    "ridgeCV = Ridge()\n",
    "\n",
    "# Cross validation score\n",
    "cvs = cross_val_score(ridgeCV, Ad_df[features_added], Ad_df[target], cv = 10)\n",
    "print(\"Mean Score:\")\n",
    "print(cvs.mean(), \"\\n\")\n",
    "\n",
    "# Print confidence interval\n",
    "print(\"Confidence Interval:\")\n",
    "cvs.mean() - cvs.std(), cvs.mean() + cvs.std() \n",
    "\n",
    "# note that the same can be set as LooCV if cv parameter above is set to n, i.e, 200."
   ]
  },
  {
   "cell_type": "markdown",
   "metadata": {},
   "source": [
    "* The mean score is 0.96. The model is able to generalize well to unseen data.\n",
    "* The CI is relatively narrow which indicates that the mean score is a reliable estimate of the model's true performance."
   ]
  },
  {
   "cell_type": "markdown",
   "metadata": {
    "id": "i6veKXLlmMWr"
   },
   "source": [
    "## Bootstrapping"
   ]
  },
  {
   "cell_type": "code",
   "execution_count": 36,
   "metadata": {
    "colab": {
     "base_uri": "https://localhost:8080/"
    },
    "id": "8FcvUb-YmLUP",
    "outputId": "d0785df0-11a5-4d5b-f419-778a4e0cfc30"
   },
   "outputs": [
    {
     "name": "stdout",
     "output_type": "stream",
     "text": [
      "                            OLS Regression Results                            \n",
      "==============================================================================\n",
      "Dep. Variable:                  sales   R-squared:                       0.612\n",
      "Model:                            OLS   Adj. R-squared:                  0.610\n",
      "Method:                 Least Squares   F-statistic:                     312.1\n",
      "Date:                Sat, 01 Apr 2023   Prob (F-statistic):           1.47e-42\n",
      "Time:                        18:45:59   Log-Likelihood:                -519.05\n",
      "No. Observations:                 200   AIC:                             1042.\n",
      "Df Residuals:                     198   BIC:                             1049.\n",
      "Df Model:                           1                                         \n",
      "Covariance Type:            nonrobust                                         \n",
      "==============================================================================\n",
      "                 coef    std err          t      P>|t|      [0.025      0.975]\n",
      "------------------------------------------------------------------------------\n",
      "Intercept      7.0326      0.458     15.360      0.000       6.130       7.935\n",
      "TV             0.0475      0.003     17.668      0.000       0.042       0.053\n",
      "==============================================================================\n",
      "Omnibus:                        0.531   Durbin-Watson:                   1.935\n",
      "Prob(Omnibus):                  0.767   Jarque-Bera (JB):                0.669\n",
      "Skew:                          -0.089   Prob(JB):                        0.716\n",
      "Kurtosis:                       2.779   Cond. No.                         338.\n",
      "==============================================================================\n",
      "\n",
      "Notes:\n",
      "[1] Standard Errors assume that the covariance matrix of the errors is correctly specified.\n"
     ]
    }
   ],
   "source": [
    "# let us get a more detailed model through statsmodel for TV ads.\n",
    "import statsmodels.formula.api as smf\n",
    "lm2 = smf.ols(formula= 'sales ~ TV', data = Ad_df).fit()\n",
    "lm2.params\n",
    "print(lm2.summary())  #Inferential statistics"
   ]
  },
  {
   "cell_type": "code",
   "execution_count": 38,
   "metadata": {
    "colab": {
     "base_uri": "https://localhost:8080/",
     "height": 278
    },
    "id": "_qjK1Fn9UOJT",
    "outputId": "a848a024-c4d4-4987-a72c-b838625a9a00"
   },
   "outputs": [
    {
     "data": {
      "image/png": "[encoded data removed]",
      "text/plain": [
       "<Figure size 640x480 with 1 Axes>"
      ]
     },
     "metadata": {},
     "output_type": "display_data"
    }
   ],
   "source": [
    "# Bootstrap resampling 1000 times to estimate the slope parameter of a linear regression model of TV ad spending on sales\n",
    "\n",
    "import statsmodels.formula.api as smf\n",
    "\n",
    "# Initialize an empty list\n",
    "Slope = []\n",
    "\n",
    "# Create a loop that will run 1000 times, each time selecting a random sample of 200 rows from the df\n",
    "for i in range(1000):\n",
    "  bootstrap_df = Ad_df.sample(n = 200, replace = True )\n",
    "\n",
    "# Fit a linear regression model to the bootstrap sample\n",
    "  lm3 = smf.ols(formula= 'sales ~ TV', data = bootstrap_df).fit()\n",
    "    \n",
    "# Append the slope value to the Slope list\n",
    "  Slope.append(lm3.params.TV)\n",
    "  \n",
    "    # Plot the fitted line for the currrent bootstrap sample on a scatter plot\n",
    "  plt.xlabel('TV Ads')\n",
    "  plt.ylabel('Sales')\n",
    "  plt.plot(bootstrap_df['TV'], lm3.predict(bootstrap_df['TV']), color='green', linewidth=3) # line plot\n",
    "  \n",
    "plt.scatter(Ad_df['TV'], Ad_df['sales'],  color=(0,0,0.5)) # scatter plot\n",
    "plt.show()\n"
   ]
  },
  {
   "cell_type": "code",
   "execution_count": 39,
   "metadata": {
    "colab": {
     "base_uri": "https://localhost:8080/"
    },
    "id": "my0E81YkGwCN",
    "outputId": "e8aee2af-3ec0-489b-9e2c-d3a020689cb1"
   },
   "outputs": [
    {
     "data": {
      "text/plain": [
       "array([0.04182351, 0.05282224])"
      ]
     },
     "execution_count": 39,
     "metadata": {},
     "output_type": "execute_result"
    }
   ],
   "source": [
    "# Let's now find out the 2.5 and 97.5 percentile for the slopes obtained (95% CI)\n",
    "import numpy as np\n",
    "\n",
    "Slope = np.array(Slope)\n",
    "Sort_Slope = np.sort(Slope)\n",
    "\n",
    "# Create lower and upper slope limits (CI)\n",
    "Slope_limits = np.percentile(Sort_Slope, (2.5, 97.5))\n",
    "Slope_limits"
   ]
  },
  {
   "cell_type": "markdown",
   "metadata": {},
   "source": [
    "We are 95% confident that the **true slope** of the population regression line is **between these two values**."
   ]
  },
  {
   "cell_type": "code",
   "execution_count": 40,
   "metadata": {
    "colab": {
     "base_uri": "https://localhost:8080/",
     "height": 282
    },
    "id": "tfuLE-9Hoh2G",
    "outputId": "a4719d2a-57ef-4abe-fc6a-660a53a50e07",
    "scrolled": true
   },
   "outputs": [
    {
     "data": {
      "text/plain": [
       "<matplotlib.lines.Line2D at 0x223bad907f0>"
      ]
     },
     "execution_count": 40,
     "metadata": {},
     "output_type": "execute_result"
    },
    {
     "data": {
      "image/png": "[encoded data removed]",
      "text/plain": [
       "<Figure size 640x480 with 1 Axes>"
      ]
     },
     "metadata": {},
     "output_type": "display_data"
    }
   ],
   "source": [
    "# Plotting the slopes and the upper and the lower limits\n",
    "# Histogram of the slope values with 50 bins\n",
    "plt.hist(Slope, 50)\n",
    "\n",
    "# Add a vertical line to the plot at the value of the lower limit of the 95% confidence interval\n",
    "plt.axvline(Slope_limits[0], color = 'r')\n",
    "\n",
    "# Add another vertical line to the plot at the value of the upper limit of the 95% confidence interval\n",
    "plt.axvline(Slope_limits[1], color = 'r')"
   ]
  },
  {
   "cell_type": "markdown",
   "metadata": {},
   "source": [
    "* This output shows a **histogram of the distribution of slopes** obtained through **bootstrapping** along with the 2.5th and 97.5th percentiles. \n",
    "* The **red vertical lines** indicate the **lower and upper limits of the confidence interval of the slope**. \n",
    "* This graph helps us **visualize the distribution of the slopes** and the **extent of variation in the slope estimates we can expect** from different samples."
   ]
  },
  {
   "cell_type": "markdown",
   "metadata": {},
   "source": [
    "# End"
   ]
  }
 ],
 "metadata": {
  "colab": {
   "collapsed_sections": [],
   "name": "LVC_1_&_2_Practical_Application_Effects_of_Advertising_on_Sales.ipynb",
   "provenance": []
  },
  "kernelspec": {
   "display_name": "Python 3",
   "language": "python",
   "name": "python3"
  },
  "language_info": {
   "codemirror_mode": {
    "name": "ipython",
    "version": 3
   },
   "file_extension": ".py",
   "mimetype": "text/x-python",
   "name": "python",
   "nbconvert_exporter": "python",
   "pygments_lexer": "ipython3",
   "version": "3.9.13"
  }
 },
 "nbformat": 4,
 "nbformat_minor": 1
}
